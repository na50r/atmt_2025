{
 "cells": [
  {
   "cell_type": "code",
   "execution_count": 1,
   "metadata": {},
   "outputs": [],
   "source": [
    "import sacrebleu"
   ]
  },
  {
   "cell_type": "code",
   "execution_count": 10,
   "id": "74879b15",
   "metadata": {},
   "outputs": [
    {
     "name": "stdout",
     "output_type": "stream",
     "text": [
      "5000\n",
      "5000\n"
     ]
    }
   ],
   "source": [
    "with open('cz-en/reference.txt', 'r', encoding='utf-8') as f:\n",
    "    ref = [line.strip() for line in f if line.strip()]\n",
    "    print(len(ref))\n",
    "\n",
    "with open('cz-en/output.txt', 'r') as f:\n",
    "    hyp = [line.strip() for line in f if line.strip()]\n",
    "    print(len(ref))"
   ]
  },
  {
   "cell_type": "code",
   "execution_count": 12,
   "id": "e7ee242a",
   "metadata": {},
   "outputs": [
    {
     "name": "stdout",
     "output_type": "stream",
     "text": [
      "A tough kid from Kwangtung?\n",
      "A kid whose ancestors used to hang in baskets in the Sierras, poking dynamite sticks in cliff faces?\n",
      "All I'm asking you to do is be a fly on the wall.\n",
      "Your ancestors are rolling in their graves.\n",
      "You're pushing too much.\n",
      "I'm no slave.\n",
      "I gave up my security job.\n",
      "I gave up my chauffeur job.\n",
      "I send less money home.\n",
      "I don't eat right.\n",
      "cat: write error: Broken pipe\n"
     ]
    }
   ],
   "source": [
    "!cat cz-en/reference.txt | head -n 10"
   ]
  },
  {
   "cell_type": "code",
   "execution_count": 13,
   "id": "b7cb069c",
   "metadata": {},
   "outputs": [
    {
     "name": "stdout",
     "output_type": "stream",
     "text": [
      ", Kwangung's Dirty child?? Do you, a Kwangtung? a Dirty child from Kwangtung????? a Dirty Kwang-wangtung??????????????? you, you, a tough child of Kwangwang-angtung????? Did you, you, a rough child of Kwangwangtung?????? Did you, a harsh a Kwang-wangtung-angtung Dirty Kwang-wangtung-wang-wang-wang-wang-wang-wang-ang-ang-ang-wang-ang-wang-wang-wang-wang-wang-wang-ang-wang-wang-wang-wang-and-wang-tung-wang-wang-wang-wang-wang-wang-wang-wang-wang-wang-wang-tung-wang-wang-wang-t-wang-wang-wang-wang-H-H-H-H-wang-wang-wang-H-H-H-wang-t-wang-H-H-\n",
      "the child whose ancorse had in the baskes of the Sierras and pushed the dynamit into the curtains of the rocks?????\n",
      "I want you to make yourself a flour fly the wall of the wall, the wall of the wall, I want you to make you turn away into the flour fly away from the wall of the wall, the wall of the wall, my mind, I want you only to make you turn away to the flour away from the wall. I want you only to make you so I want you to go away from the wall of the wall. I want you only to make you to me, just so you go to make you out to turn yourself into the flour flour flour flour flour flour flour the flour the wall of the wall of the wall, the wall of the wall, my despest as I want you just so I just to make you to make you to make you to make you to make you to turn away to make you to turn away to turn away to make you out to make you out to the flour away to the flour away the flour the flour away the flour away the flour the flour the flour the flour away into the flour away the flour away from the flour the flour the flour the flour away from the flour the flour away the flour the flour the flour the flour the flour the flour the flour the flour the flour the flour of the flour the flour the flour the fl\n",
      "thy forec is now turning in the grabs. . . . . . . . . . . . . and your father is now turning thunderpresently, your forecir is now turning in his face. . . . . . . . . . . . . . . . . . . . . thy father is now turning thy father of thy father is now turning thy face in thunderbear thunderbolc face now. . . . . . . . . . . . . . . . . . . . . . . . . . . . . . . . . . . . . . . . . . . . . . . . . . . . . . . . . . . . . . . . . . . . . . . . . . . . . . . . . . . . . . . . . . . . . . . . . . . . . . . . . . . . . . . . . . . . . . . . . . . . . . . . . . . . . . . . . . . . . . . . . . . . . . . . . . . . . . . . . . . . . . . . . . . . . . . . . . . . . . . . . . . . . . . . . . . . . . . . . .\n",
      "you're too pressing me. you're pressing power on me. you're you're pressing me. you're you're pressing me too much you're you're you're pulling me too much you're you're you're you're pressing me too much. you're you're you're too much pressure me too much you're you're you're you're you're too much pressure me too much you're you're you're you're you're you're you're you're pressing me too much too much on me too much on me. you're you' you're you're you're you're you're you're you're you're you're you're you're you're you're pressing me too much too much on me too much on me too much pressure me. you're you're you're you're you're you're you're you're you're you're you're you're you're you're you're you're you're you're you're you're you're you're you're you're you're you're you're you're you're you're you're you\n",
      "I am not a slave slave.. I am not a slave. I am not a slave. I am not a slave.. I am not a slave. I am not a slave. I am not a slave.. I am not a slave.. I am not a slave.. I am not a slave.. I am not a slave.. I am not a slave. I am not a slave. I am not a slave. I am not a slave. I am not a slave not a slave. I am not a slave not a slave. I am not a slave. I am not a slave not a slave.. I am not a slave not a slave..... I am not a slave.. I am not a slave.. I am not a slave.. I am not a slave.. I am not a slave. I am not a slave not a slave not a slave not a slave. I am not a slave. I am not a slave. I am not a slave not a slave not a slave. I am not a slave. I am not a slave. I am not a slave not a slave. I am not a slave not a slave. I am not a slave not\n",
      "I acted as a security guard. I acted as a security guard. I acted as a security guard. I have acted as a security guard. I have acted as a security guard. I have acted as a security guard. I have acted as a security. I have acted as a security. I have acted as a security. I have acted as a security. I have acted as a security. I have acted as a security. I have acted as a security. I have acted as a security. I have acted as a security. I have acted as a security. I have done as a security. I have done as a security. I have done as a I have done as a security. I have done as a. I have done I have done. I have done as a security. I have done. I have done. I have done. I have done as a security. I have done as a security. I have done. I have done as a security. I have done as a security. I have done as a security. I have done as a security. I have done as a security. I have done. I have done. I have done as a security. I have done as a security. I have act as a security. I have done as a security. I have act as a security. I have act as a security. I have done as a security. I\n",
      "I've done with the choféraféraféraféraf. I've done with the choféraféraféraféraféraform. I've done with my choféraféraféraform. I've done with my chophaéraféraféraform. I've done with my choophaéraféraféraféraféraféraféraféraférait.\n",
      "I send house less money. I send house to a few less money. . . . . . . . . . . . . . . . . . . . . . . . . . . . . . . . . . . . . . . . . . . . . . . . . . . . . . . . . . . . . . . . . . . . . . . . . . . . . . . send sending sending a house to send a house to send a few less money to send sent to a house to a few less few less money. . . . . . . . . . . . . . . . . . . . . . . . . . . . . . . . . . . . . . . . . . . . . . . . . . . . . . . . . . . . . . . . . . . . . . . . send sending sending sending sending sending sending a house sending a house sending a house sending a house sending a house sending a house sending a few less money to send sending a house sending a house sending a few less money to send sending a few less money to send sending a house to send sent to send sent to send to send to send to send me to send me to send me send a house to send a house to send me to send a few less money to send a house to send a few less money to send a house to send\n",
      "I don't have eat eat eat eat eat. I don't have eat eat eat eat eat eat.. I don't have eat eat eat eat eat eat.. I don't have eat eat eat eat eat eat. I don't have eat eat eat eat eat. I don't have eat eat eat eat. I don't have eat eat eat eat. I don't have eat eat eat eat eat eat. I don't have eat eat eat eat eat eat eat eat eat. I don't have eat eat eat eat eat eat eat eat eat eat eat eat eat eat eat eat eat eat eat eat eat eat eat eat eat eat.. I' su eat eat eat eat. I' su I haven' su I haven' su I haven't have no lunch..... I haven't have no lunch. I haven't have no time. I haven't have no time. I eat eat eat eat eat eat eat eat eat eat eat eat eat eat eat eat eat eat eat eat eat eat eat eat eat eat eat eat eat eat eat eat eat eat eat eat eat eat eat eat eat eat eat eat eat eat eat eat eat eat eat eat eat eat. I eat eat eat eat eat eat eat eat eat eat eat eat eat eat eat eat eat eat eat eat eat eat eat eat eat eat eat eat eat eat eat eat eat eat eat eat eat eat. I't eat eat. I' eat\n",
      "cat: write error: Broken pipe\n"
     ]
    }
   ],
   "source": [
    "!cat cz-en/output.txt | head -n 10"
   ]
  },
  {
   "cell_type": "code",
   "execution_count": 14,
   "id": "089e2cc8",
   "metadata": {},
   "outputs": [
    {
     "name": "stderr",
     "output_type": "stream",
     "text": [
      "That's 100 lines that end in a tokenized period ('.')\n",
      "It looks like you forgot to detokenize your test data, which may hurt your score.\n",
      "If you insist your data is detokenized, or don't care, you can suppress this message with the `force` parameter.\n"
     ]
    }
   ],
   "source": [
    "bleu = sacrebleu.corpus_bleu(hyp, [ref])"
   ]
  },
  {
   "cell_type": "code",
   "execution_count": 15,
   "id": "59e3436a",
   "metadata": {},
   "outputs": [
    {
     "name": "stdout",
     "output_type": "stream",
     "text": [
      "BLEU = 1.25 3.2/1.6/0.9/0.5 (BP = 1.000 ratio = 18.469 hyp_len = 1038244 ref_len = 56214)\n"
     ]
    }
   ],
   "source": [
    "print(bleu.format())"
   ]
  },
  {
   "cell_type": "code",
   "execution_count": null,
   "id": "5500d509",
   "metadata": {},
   "outputs": [],
   "source": []
  }
 ],
 "metadata": {
  "kernelspec": {
   "display_name": "Python 3",
   "language": "python",
   "name": "python3"
  },
  "language_info": {
   "codemirror_mode": {
    "name": "ipython",
    "version": 3
   },
   "file_extension": ".py",
   "mimetype": "text/x-python",
   "name": "python",
   "nbconvert_exporter": "python",
   "pygments_lexer": "ipython3",
   "version": "3.10.12"
  }
 },
 "nbformat": 4,
 "nbformat_minor": 5
}
